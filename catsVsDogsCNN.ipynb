{
 "cells": [
  {
   "cell_type": "code",
   "execution_count": 1,
   "metadata": {},
   "outputs": [],
   "source": [
    "import os \n",
    "import numpy as np\n",
    "import matplotlib.pyplot as plt\n",
    "import matplotlib.image as img"
   ]
  },
  {
   "cell_type": "code",
   "execution_count": 2,
   "metadata": {},
   "outputs": [],
   "source": [
    "base_dir=\"CNN\\\\\""
   ]
  },
  {
   "cell_type": "code",
   "execution_count": 3,
   "metadata": {},
   "outputs": [],
   "source": [
    "train_dir=os.path.join(base_dir,'train')\n",
    "train_cats_dir=os.path.join(train_dir,'cats')\n",
    "train_dogs_dir=os.path.join(train_dir,'dogs')"
   ]
  },
  {
   "cell_type": "code",
   "execution_count": 4,
   "metadata": {},
   "outputs": [],
   "source": [
    "validation_dir=os.path.join(base_dir,'validation')\n",
    "validation_cats_dir=os.path.join(validation_dir,'cats')\n",
    "validation_dogs_dir=os.path.join(validation_dir,'dogs')"
   ]
  },
  {
   "cell_type": "code",
   "execution_count": 5,
   "metadata": {},
   "outputs": [],
   "source": [
    "test_dir=os.path.join(base_dir,'test')\n",
    "test_cats_dir=os.path.join(test_dir,'cats')\n",
    "test_dogs_dir=os.path.join(test_dir,'dogs')"
   ]
  },
  {
   "cell_type": "code",
   "execution_count": 6,
   "metadata": {},
   "outputs": [],
   "source": [
    "train_cat_fnames=os.listdir(train_cats_dir)\n",
    "train_dog_fnames=os.listdir(train_dogs_dir)"
   ]
  },
  {
   "cell_type": "code",
   "execution_count": 7,
   "metadata": {},
   "outputs": [
    {
     "name": "stdout",
     "output_type": "stream",
     "text": [
      "['cat.1.jpg', 'cat.10.jpg', 'cat.100.jpg', 'cat.1000.jpg', 'cat.101.jpg', 'cat.102.jpg', 'cat.103.jpg', 'cat.104.jpg', 'cat.105.jpg', 'cat.106.jpg']\n"
     ]
    }
   ],
   "source": [
    "print(train_cat_fnames[:10])"
   ]
  },
  {
   "cell_type": "code",
   "execution_count": 8,
   "metadata": {},
   "outputs": [
    {
     "name": "stdout",
     "output_type": "stream",
     "text": [
      "['dog.1.jpg', 'dog.10.jpg', 'dog.100.jpg', 'dog.1000.jpg', 'dog.101.jpg', 'dog.102.jpg', 'dog.103.jpg', 'dog.104.jpg', 'dog.105.jpg', 'dog.106.jpg']\n"
     ]
    }
   ],
   "source": [
    "print(train_dog_fnames[:10])"
   ]
  },
  {
   "cell_type": "code",
   "execution_count": 9,
   "metadata": {},
   "outputs": [
    {
     "name": "stdout",
     "output_type": "stream",
     "text": [
      "total training cat images=1000\n"
     ]
    }
   ],
   "source": [
    "print(\"total training cat images={}\".format(len(os.listdir(train_cats_dir))))"
   ]
  },
  {
   "cell_type": "code",
   "execution_count": 10,
   "metadata": {},
   "outputs": [
    {
     "name": "stdout",
     "output_type": "stream",
     "text": [
      "total testing cat images=500\n"
     ]
    }
   ],
   "source": [
    "print(\"total testing cat images={}\".format(len(os.listdir(test_cats_dir))))"
   ]
  },
  {
   "cell_type": "code",
   "execution_count": 12,
   "metadata": {},
   "outputs": [],
   "source": [
    "n_rows=4\n",
    "n_columns=4\n",
    "pic_index=0\n",
    "fig=plt.gcf()\n",
    "fig.set_size_inches(n_columns*4,n_rows*4)\n",
    "pic_index+=8\n",
    "next_cat_pix=[os.path.join(train_cats_dir,fname) for fname in train_cat_fnames[pic_index-8:pic_index]]\n",
    "next_dog_pix=[os.path.join(train_dogs_dir,fname) for fname in train_dog_fnames[pic_index-8:pic_index]]\n",
    "for i ,img_path in enumerate(next_cat_pix+next_dog_pix):\n",
    "    plt.subplot(n_rows,n_columns,i+1)\n",
    "image=img.imread(img_path)\n",
    "plt.imshow(image)\n",
    "plt.show()"
   ]
  },
  {
   "cell_type": "code",
   "execution_count": 14,
   "metadata": {},
   "outputs": [],
   "source": [
    "\n",
    "import tensorflow as tf\n",
    "#we extratcted 16 features in first cnn layer and kernel size is (3,3) and image size is 150*150 with 3 channels\n",
    "model=tf.keras.models.sequential([tf.keras.layers.Conv2D(16,(3,3),activation='relu',input_shape=(150,150,3)),\n",
    "tf.keras.layers.MaxPooling2D(2,2),#max pooling layer reduce size of feature frame we have now 75*75 feature layer\n",
    "tf.keras.layers.Conv2D(32,(3,3),activation=\"relu\"),\n",
    "tf.keras.layers.MaxPooling2D(2,2),\n",
    "tf.keras.layers.Conv2D(64,(3,3),activation=\"relu\"), \n",
    "tf.keras.layers.MaxPooling2D(2,2),\n",
    "tf.keras.layers.Conv2D(128,(3,3),activation=\"relu\"),  \n",
    "tf.keras.layers.MaxPooling2D(2,2),\n",
    "tf.keras.layers.Flatten(),\n",
    "tf.keras.layers.Dense(512,activation=\"relu\")#512 neurons in hidden layer\n",
    "tf.keras.layers.Dense(1,activation=\"sigmoid\") #only 1 output neuron and it has range 0-1,0 for cats and 1 for dogs                                \n",
    "])\n"
   ]
  },
  {
   "cell_type": "code",
   "execution_count": null,
   "metadata": {},
   "outputs": [],
   "source": [
    "model.summary()#summary of the model"
   ]
  },
  {
   "cell_type": "markdown",
   "metadata": {},
   "source": [
    "# COMPILING THE MODEL"
   ]
  },
  {
   "cell_type": "code",
   "execution_count": null,
   "metadata": {},
   "outputs": [],
   "source": [
    "from tensorflow.keras.optimizer import RMSprop\n",
    "#optimizers are like RMSprop ,gradient descent,SGD\n",
    "model.compile(optimizer=RMSprop(lr=0.001),loss=\"binary_crossentropy\",metrics=[\"accuracy\"])#lr is learning rate,binary cross entropy is used for classification\n"
   ]
  },
  {
   "cell_type": "markdown",
   "metadata": {},
   "source": [
    "# DATA PREPROCESSING"
   ]
  },
  {
   "cell_type": "code",
   "execution_count": 16,
   "metadata": {},
   "outputs": [],
   "source": [
    "from tensorflow.keras.preprocessing.image import ImageDataGenerator\n",
    "#rescaled all images\n",
    "train_datagen=ImageDataGenerator(rescale=1.0/255.)\n",
    "test_datagen=ImageDataGenerator(rescale=1.0/255.)\n",
    "#flow training images in batches of 20 using train_datagen generator\n",
    "train_generator=train_datagen.flow_from_directory(train_dir,batch_size=20,class_mode=\"binary\",target_size=(150,150))\n",
    "#flow validation images in batches of 20 using test_datagen_generator\n",
    "validation_generator=test_datagen.flow_from_directory(validation_dir,batch_size=20,class_mode=\"binary\",target_size=(150,150))\n"
   ]
  },
  {
   "cell_type": "code",
   "execution_count": null,
   "metadata": {},
   "outputs": [],
   "source": [
    "#TRAINING\n",
    "\n",
    "history=model.fit(train_generator,validation_data=validation_generator,step_per_epoch=100,epochs=15,validation_step=50,verbose=2)"
   ]
  },
  {
   "cell_type": "code",
   "execution_count": null,
   "metadata": {},
   "outputs": [],
   "source": [
    "#diploy model on colab:\n",
    "from google.colab import files\n",
    "from keras.preprocessing import image\n",
    "uploaded=files.upload()\n",
    "for fn in uploaded.keys():\n",
    "path='/content/'+fn\n",
    "img=image.load_img(path,target_size=(150,150))\n",
    "x=image.img_to_array(img)\n",
    "X=np.expand_dims(x,axis=0)\n",
    "images=np.vstack([x])\n",
    "classes=model.predict(images,batch_size=10)\n",
    "print(classes[0])\n",
    "if classes[0]>0:\n",
    "print(fn+\"is a dog\")\n",
    "else:\n",
    "print(fn+\"is a cat\")"
   ]
  },
  {
   "cell_type": "code",
   "execution_count": null,
   "metadata": {},
   "outputs": [],
   "source": [
    "model.save(\"mycnnmodel.h5\")#to save model"
   ]
  }
 ],
 "metadata": {
  "kernelspec": {
   "display_name": "Python 3",
   "language": "python",
   "name": "python3"
  },
  "language_info": {
   "codemirror_mode": {
    "name": "ipython",
    "version": 3
   },
   "file_extension": ".py",
   "mimetype": "text/x-python",
   "name": "python",
   "nbconvert_exporter": "python",
   "pygments_lexer": "ipython3",
   "version": "3.7.6"
  }
 },
 "nbformat": 4,
 "nbformat_minor": 4
}
